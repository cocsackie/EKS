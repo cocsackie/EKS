{
 "cells": [
  {
   "cell_type": "markdown",
   "metadata": {},
   "source": [
    "# 1.Opis\n",
    "\n",
    "Postawiony przed nami problem to analiza płac w San Francisco. Celami analizy są:\n",
    "- porównanie zmian w płacach różnych grup ludzi na przestrzeni lat 2011-1014\n",
    "- sprawdzenie, jak podstawowa płaca, płaca za nadgodziny, premie, są rozalokowane w różnych grupach\n",
    "- sprawdzenie, czy są dowody na to, że dochodzi do dyskryminacji ze względu na płeć w przełożeniu na płacę\n",
    "- sprawdzenie, jak budżet jest rozalokowany na podstawie różnych grup i odpowiedzialności\n",
    "\n",
    "Do zrealizowania wyżej postawionych celów należy:\n",
    "- przypisać ludzi do grup\n",
    "- przypisać ludzi do płci\n",
    "- przypisać ludzi do odpowiedzialności\n",
    "\n",
    "Dostarczone dane:\n",
    "- Id - identyfikuje wiersz, nieprzydatne ze względu na cele biznesowe\n",
    "- EmployeeName - imię i nazwisko osoby, przydatne do przypisania płci\n",
    "- JobTitle - tytuł posady, przydatne do określenia grupy jak i odpowiedzialności\n",
    "- BasePay - płaca podstawowa, przydatne do określenia płac na przestrzeni lat\n",
    "- OvertimePay - płaca za nadgodziny, przydatne do określenia płac na przestrzeni lat\n",
    "- OtherPay - płaca dodatkowa, przydatne do określenia płac na przestrzeni lat\n",
    "- Benefits - premie, przydatne do określenia płac na przestrzeni lat\n",
    "- TotalPay - suma wszystkich płac, przydatne do określenia płac na przestrzeni lat\n",
    "- TotalPayBenefits - suma wszystkich płac plus premie\n",
    "- Year - rok, przydatny do określenia płac na przestrzeni lat\n",
    "- Notes - notatki, nieprzydatne ponieważ nigdzie nie jest wypełnione\n",
    "- Agency - agencja, nieprzydatne ponieważ zawiera jędną wartość 'San Francisco'\n",
    "- Status - typ zatrudnienia (pełen etat/niepełny etat)"
   ]
  },
  {
   "cell_type": "markdown",
   "metadata": {},
   "source": [
    "Załadowanie bibliotek"
   ]
  },
  {
   "cell_type": "code",
   "execution_count": 1,
   "metadata": {
    "collapsed": false
   },
   "outputs": [],
   "source": [
    "import pandas as pd\n",
    "import numpy as np\n",
    "import matplotlib.pyplot as plt\n",
    "%matplotlib inline\n",
    "import seaborn as sns"
   ]
  },
  {
   "cell_type": "markdown",
   "metadata": {},
   "source": [
    "Załadowanie danych"
   ]
  },
  {
   "cell_type": "code",
   "execution_count": 2,
   "metadata": {
    "collapsed": false
   },
   "outputs": [
    {
     "name": "stderr",
     "output_type": "stream",
     "text": [
      "C:\\Program Files\\Anaconda2\\lib\\site-packages\\IPython\\core\\interactiveshell.py:2717: DtypeWarning: Columns (3,4,5,6,12) have mixed types. Specify dtype option on import or set low_memory=False.\n",
      "  interactivity=interactivity, compiler=compiler, result=result)\n"
     ]
    }
   ],
   "source": [
    "data = pd.read_table('Salaries.csv',sep=',')"
   ]
  },
  {
   "cell_type": "markdown",
   "metadata": {},
   "source": [
    "# Analiza wstępna\n",
    "\n",
    "Z powodu tego, że dostarczone dane zawierają niepoprawne wartości - np. w kolumnach z atrybutami ilościowymi znajdują wartości tekstowe - zmuszeni zostaliśmy do przeprowadzenia analizy wstępnej i przygotowanie na jej podstawie danych do dalszej analizy.\n"
   ]
  },
  {
   "cell_type": "code",
   "execution_count": 3,
   "metadata": {
    "collapsed": false
   },
   "outputs": [
    {
     "name": "stdout",
     "output_type": "stream",
     "text": [
      "Liczba wierszy: 148654\n"
     ]
    }
   ],
   "source": [
    "print \"Liczba wierszy: \" + str(len(data))"
   ]
  },
  {
   "cell_type": "markdown",
   "metadata": {},
   "source": [
    "Poziom wypełnienia kolumn"
   ]
  },
  {
   "cell_type": "code",
   "execution_count": 4,
   "metadata": {
    "collapsed": false
   },
   "outputs": [
    {
     "name": "stdout",
     "output_type": "stream",
     "text": [
      "Wypełnienie Id: 100.0%\n",
      "Wypełnienie EmployeeName: 100.0%\n",
      "Wypełnienie JobTitle: 100.0%\n",
      "Wypełnienie BasePay: 99.5930146515%\n",
      "Wypełnienie OvertimePay: 100.0%\n",
      "Wypełnienie OtherPay: 100.0%\n",
      "Wypełnienie Benefits: 75.6757302192%\n",
      "Wypełnienie TotalPay: 100.0%\n",
      "Wypełnienie TotalPayBenefits: 100.0%\n",
      "Wypełnienie Year: 100.0%\n",
      "Wypełnienie Notes: 0.0%\n",
      "Wypełnienie Agency: 100.0%\n",
      "Wypełnienie Status: 25.6427677695%\n"
     ]
    }
   ],
   "source": [
    "def get_fill(column):\n",
    "    return str(float(column.notnull().sum())/len(column)*100)\n",
    "\n",
    "print \"Wypełnienie Id: \" + get_fill(data.Id) + \"%\"\n",
    "print \"Wypełnienie EmployeeName: \" + get_fill(data.EmployeeName) + \"%\"\n",
    "print \"Wypełnienie JobTitle: \" + get_fill(data.JobTitle) + \"%\"\n",
    "print \"Wypełnienie BasePay: \" + get_fill(data.BasePay) + \"%\"\n",
    "print \"Wypełnienie OvertimePay: \" + get_fill(data.OvertimePay) + \"%\"\n",
    "print \"Wypełnienie OtherPay: \" + get_fill(data.OtherPay) + \"%\"\n",
    "print \"Wypełnienie Benefits: \" + get_fill(data.Benefits) + \"%\"\n",
    "print \"Wypełnienie TotalPay: \" + get_fill(data.TotalPay) + \"%\"\n",
    "print \"Wypełnienie TotalPayBenefits: \" + get_fill(data.TotalPayBenefits) + \"%\"\n",
    "print \"Wypełnienie Year: \" + get_fill(data.Year) + \"%\"\n",
    "print \"Wypełnienie Notes: \" + get_fill(data.Notes) + \"%\"\n",
    "print \"Wypełnienie Agency: \" + get_fill(data.Agency) + \"%\"\n",
    "print \"Wypełnienie Status: \" + get_fill(data.Status) + \"%\""
   ]
  },
  {
   "cell_type": "markdown",
   "metadata": {},
   "source": [
    "Wszak trzeba zauważyć, że pola liczbowe niezawierające danych są odpowiednikiem wypełnienia zarami.\n",
    "\n",
    "Ilość unikalnych danych wraz z niepoprawnymi wartościami"
   ]
  },
  {
   "cell_type": "code",
   "execution_count": 5,
   "metadata": {
    "collapsed": false
   },
   "outputs": [
    {
     "name": "stdout",
     "output_type": "stream",
     "text": [
      "Ilość unikalnych wartości (wraz z niewypełnioną):\n",
      "dla kolumny Id: 148654\n",
      "dla kolumny EmployeeName: 110811\n",
      "dla kolumny JobTitle: 2159\n",
      "dla kolumny BasePay: 109901\n",
      "dla kolumny OvertimePay: 66555\n",
      "dla kolumny OtherPay: 84968\n",
      "dla kolumny Benefits: 99636\n",
      "dla kolumny TotalPay: 138486\n",
      "dla kolumny TotalPayBenefits: 142098\n",
      "dla kolumny Year: 4\n",
      "dla kolumny Notes: 1\n",
      "dla kolumny Agency: 1\n",
      "dla kolumny Status: 3\n"
     ]
    }
   ],
   "source": [
    "print \"Ilość unikalnych wartości (wraz z niewypełnioną):\"\n",
    "print \"dla kolumny Id: \" + str(len(data.Id.unique()))\n",
    "print \"dla kolumny EmployeeName: \" + str(len(data.EmployeeName.unique()))\n",
    "print \"dla kolumny JobTitle: \" + str(len(data.JobTitle.unique()))\n",
    "print \"dla kolumny BasePay: \" + str(len(data.BasePay.unique()))\n",
    "print \"dla kolumny OvertimePay: \" + str(len(data.OvertimePay.unique()))\n",
    "print \"dla kolumny OtherPay: \" + str(len(data.OtherPay.unique()))\n",
    "print \"dla kolumny Benefits: \" + str(len(data.Benefits.unique()))\n",
    "print \"dla kolumny TotalPay: \" + str(len(data.TotalPay.unique()))\n",
    "print \"dla kolumny TotalPayBenefits: \" + str(len(data.TotalPayBenefits.unique()))\n",
    "print \"dla kolumny Year: \" + str(len(data.Year.unique()))\n",
    "print \"dla kolumny Notes: \" + str(len(data.Notes.unique()))\n",
    "print \"dla kolumny Agency: \" + str(len(data.Agency.unique()))\n",
    "print \"dla kolumny Status: \" + str(len(data.Status.unique()))\n",
    "\n"
   ]
  },
  {
   "cell_type": "markdown",
   "metadata": {},
   "source": [
    "Liczba zduplikowanych wierszy:"
   ]
  },
  {
   "cell_type": "code",
   "execution_count": 6,
   "metadata": {
    "collapsed": false
   },
   "outputs": [
    {
     "name": "stdout",
     "output_type": "stream",
     "text": [
      "Liczba powtarzających się wierszy: 0\n"
     ]
    }
   ],
   "source": [
    "print \"Liczba powtarzających się wierszy: \" + str(data.duplicated().sum())"
   ]
  },
  {
   "cell_type": "markdown",
   "metadata": {},
   "source": [
    "# Przygotowanie danych do analizy - usunięcie zbędnych kolumn"
   ]
  },
  {
   "cell_type": "markdown",
   "metadata": {},
   "source": [
    "Kolumna Id nie zawiera danych, które mogłyby zostać wykorzystane, dlatego postanowiliśmy ją usunąć"
   ]
  },
  {
   "cell_type": "code",
   "execution_count": 7,
   "metadata": {
    "collapsed": true
   },
   "outputs": [],
   "source": [
    "data.drop([\"Id\"],1,inplace=True)"
   ]
  },
  {
   "cell_type": "markdown",
   "metadata": {},
   "source": [
    "Z powodu tego, że kolumna Notes nie zawiera żadnych atrybutów postanowiliśmy ją usunąć, gdyż nic nie wnosi."
   ]
  },
  {
   "cell_type": "code",
   "execution_count": 8,
   "metadata": {
    "collapsed": false
   },
   "outputs": [],
   "source": [
    "data.drop([\"Notes\"],1,inplace=True)"
   ]
  },
  {
   "cell_type": "markdown",
   "metadata": {},
   "source": [
    "Kolumna Agency zawiera tylko jedną wartość 'San Francisco', dlatego postanowiliśmy ją usunąć, gdyż nic nie wnosi."
   ]
  },
  {
   "cell_type": "code",
   "execution_count": 9,
   "metadata": {
    "collapsed": false
   },
   "outputs": [],
   "source": [
    "data.drop([\"Agency\"],1,inplace=True)"
   ]
  },
  {
   "cell_type": "markdown",
   "metadata": {},
   "source": [
    "# Przygotowanie danych do analizy - wypełnienie brakujących atrybutów"
   ]
  },
  {
   "cell_type": "code",
   "execution_count": 10,
   "metadata": {
    "collapsed": true
   },
   "outputs": [],
   "source": [
    "data.BasePay.fillna(0, inplace=True)\n",
    "data.Benefits.fillna(0, inplace=True)"
   ]
  },
  {
   "cell_type": "markdown",
   "metadata": {},
   "source": [
    "# Przygotowanie danych do analizy - normalizacja danych"
   ]
  },
  {
   "cell_type": "code",
   "execution_count": 11,
   "metadata": {
    "collapsed": false
   },
   "outputs": [],
   "source": [
    "data['EmployeeName'] = data['EmployeeName'].apply(lambda x: x.upper())\n",
    "data['JobTitle'] = data['JobTitle'].apply(lambda x: x.upper())"
   ]
  },
  {
   "cell_type": "markdown",
   "metadata": {},
   "source": [
    "# Przygotowanie danych do analizy - usunięcie zbędnych wierszy"
   ]
  },
  {
   "cell_type": "code",
   "execution_count": 12,
   "metadata": {
    "collapsed": false
   },
   "outputs": [],
   "source": [
    "data = data[data.JobTitle != \"NOT PROVIDED\"]"
   ]
  },
  {
   "cell_type": "markdown",
   "metadata": {},
   "source": [
    "# 2.3 Zakresy zmienności atrybutów i wartości statystycznych"
   ]
  },
  {
   "cell_type": "code",
   "execution_count": 13,
   "metadata": {
    "collapsed": false
   },
   "outputs": [],
   "source": [
    "#data.BasePay.hist(color='b', alpha=0.5, bins=100)"
   ]
  },
  {
   "cell_type": "code",
   "execution_count": 14,
   "metadata": {
    "collapsed": false
   },
   "outputs": [],
   "source": [
    "#data.Benefits.hist(color='b', alpha=0.5, bins=100)"
   ]
  },
  {
   "cell_type": "code",
   "execution_count": 15,
   "metadata": {
    "collapsed": false
   },
   "outputs": [],
   "source": [
    "#data.OtherPay.hist(color='b', alpha=0.5, bins=100)"
   ]
  },
  {
   "cell_type": "code",
   "execution_count": 16,
   "metadata": {
    "collapsed": false
   },
   "outputs": [],
   "source": [
    "#data.OvertimePay.hist(color='b', alpha=0.5, bins=100)"
   ]
  },
  {
   "cell_type": "code",
   "execution_count": 17,
   "metadata": {
    "collapsed": false
   },
   "outputs": [
    {
     "data": {
      "text/plain": [
       "<matplotlib.axes._subplots.AxesSubplot at 0x10828630>"
      ]
     },
     "execution_count": 17,
     "metadata": {},
     "output_type": "execute_result"
    },
    {
     "data": {
      "image/png": "[encoded data removed]",
      "text/plain": [
       "<matplotlib.figure.Figure at 0x6d6f240>"
      ]
     },
     "metadata": {},
     "output_type": "display_data"
    }
   ],
   "source": [
    "data.TotalPay.hist(color='b', alpha=0.5, bins=100)"
   ]
  },
  {
   "cell_type": "code",
   "execution_count": 18,
   "metadata": {
    "collapsed": false
   },
   "outputs": [
    {
     "data": {
      "text/plain": [
       "<matplotlib.axes._subplots.AxesSubplot at 0xe595c50>"
      ]
     },
     "execution_count": 18,
     "metadata": {},
     "output_type": "execute_result"
    },
    {
     "data": {
      "image/png": "[encoded data removed]",
      "text/plain": [
       "<matplotlib.figure.Figure at 0xe666ac8>"
      ]
     },
     "metadata": {},
     "output_type": "display_data"
    }
   ],
   "source": [
    "data.TotalPayBenefits.hist(color='b', alpha=0.5, bins=100)"
   ]
  },
  {
   "cell_type": "code",
   "execution_count": 19,
   "metadata": {
    "collapsed": false
   },
   "outputs": [
    {
     "data": {
      "text/plain": [
       "<matplotlib.axes._subplots.AxesSubplot at 0xeb42978>"
      ]
     },
     "execution_count": 19,
     "metadata": {},
     "output_type": "execute_result"
    },
    {
     "data": {
      "image/png": "[encoded data removed]",
      "text/plain": [
       "<matplotlib.figure.Figure at 0xad349e8>"
      ]
     },
     "metadata": {},
     "output_type": "display_data"
    }
   ],
   "source": [
    "data.Year.hist(color='b', alpha=0.5, bins=100)"
   ]
  },
  {
   "cell_type": "markdown",
   "metadata": {},
   "source": [
    "# 3. Korelacje między zmiennymi"
   ]
  },
  {
   "cell_type": "code",
   "execution_count": 20,
   "metadata": {
    "collapsed": false
   },
   "outputs": [
    {
     "data": {
      "text/html": [
       "<div>\n",
       "<table border=\"1\" class=\"dataframe\">\n",
       "  <thead>\n",
       "    <tr style=\"text-align: right;\">\n",
       "      <th></th>\n",
       "      <th>TotalPay</th>\n",
       "      <th>TotalPayBenefits</th>\n",
       "      <th>Year</th>\n",
       "    </tr>\n",
       "  </thead>\n",
       "  <tbody>\n",
       "    <tr>\n",
       "      <th>TotalPay</th>\n",
       "      <td>1.000000</td>\n",
       "      <td>0.977312</td>\n",
       "      <td>0.032145</td>\n",
       "    </tr>\n",
       "    <tr>\n",
       "      <th>TotalPayBenefits</th>\n",
       "      <td>0.977312</td>\n",
       "      <td>1.000000</td>\n",
       "      <td>0.152009</td>\n",
       "    </tr>\n",
       "    <tr>\n",
       "      <th>Year</th>\n",
       "      <td>0.032145</td>\n",
       "      <td>0.152009</td>\n",
       "      <td>1.000000</td>\n",
       "    </tr>\n",
       "  </tbody>\n",
       "</table>\n",
       "</div>"
      ],
      "text/plain": [
       "                  TotalPay  TotalPayBenefits      Year\n",
       "TotalPay          1.000000          0.977312  0.032145\n",
       "TotalPayBenefits  0.977312          1.000000  0.152009\n",
       "Year              0.032145          0.152009  1.000000"
      ]
     },
     "execution_count": 20,
     "metadata": {},
     "output_type": "execute_result"
    }
   ],
   "source": [
    "data.corr(method='pearson', min_periods=1)"
   ]
  }
 ],
 "metadata": {
  "anaconda-cloud": {},
  "kernelspec": {
   "display_name": "Python [default]",
   "language": "python",
   "name": "python2"
  },
  "language_info": {
   "codemirror_mode": {
    "name": "ipython",
    "version": 2
   },
   "file_extension": ".py",
   "mimetype": "text/x-python",
   "name": "python",
   "nbconvert_exporter": "python",
   "pygments_lexer": "ipython2",
   "version": "2.7.12"
  }
 },
 "nbformat": 4,
 "nbformat_minor": 1
}
